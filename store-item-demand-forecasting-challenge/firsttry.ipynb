{
 "cells": [
  {
   "cell_type": "code",
   "execution_count": 18,
   "metadata": {},
   "outputs": [],
   "source": [
    "from pyspark.sql import Row, SparkSession\n",
    "\n",
    "spark = SparkSession.builder\\\n",
    "    .master(\"local[]\")\\\n",
    "    .appName(\"kaggle\")\\\n",
    "    .getOrCreate()\n",
    "\n",
    "train_df = spark.read.csv(\n",
    "    \"https://github.com/lysimon/kaggle/raw/master/store-item-demand-forecasting-challenge/data/train.csv.gz\", header=True, mode=\"DROPMALFORMED\"\n",
    ")\n",
    "\n",
    "\n",
    "test_df = spark.read.csv(\n",
    "    \"https://github.com/lysimon/kaggle/raw/master/store-item-demand-forecasting-challenge/data/test.csv.gz\", header=True, mode=\"DROPMALFORMED\"\n",
    ")\n",
    "\n",
    "ss_df = spark.read.csv(\n",
    "    \"https://github.com/lysimon/kaggle/raw/master/store-item-demand-forecasting-challenge/data/sample_submission.csv.gz\", header=True, mode=\"DROPMALFORMED\"\n",
    ")"
   ]
  },
  {
   "cell_type": "code",
   "execution_count": 28,
   "metadata": {},
   "outputs": [
    {
     "name": "stdout",
     "output_type": "stream",
     "text": [
      "Training data\n",
      "913000\n",
      "+----------+-----+----+-----+\n",
      "|      date|store|item|sales|\n",
      "+----------+-----+----+-----+\n",
      "|2013-01-01|    1|   1|   13|\n",
      "|2013-01-02|    1|   1|   11|\n",
      "|2013-01-03|    1|   1|   14|\n",
      "|2013-01-04|    1|   1|   13|\n",
      "|2013-01-05|    1|   1|   10|\n",
      "+----------+-----+----+-----+\n",
      "only showing top 5 rows\n",
      "\n"
     ]
    }
   ],
   "source": [
    "print(\"Training data\")\n",
    "print(train_df.count())\n",
    "train_df.show(5)"
   ]
  },
  {
   "cell_type": "code",
   "execution_count": 29,
   "metadata": {},
   "outputs": [
    {
     "name": "stdout",
     "output_type": "stream",
     "text": [
      "Test data\n",
      "45000\n",
      "+---+----------+-----+----+\n",
      "| id|      date|store|item|\n",
      "+---+----------+-----+----+\n",
      "|  0|2018-01-01|    1|   1|\n",
      "|  1|2018-01-02|    1|   1|\n",
      "|  2|2018-01-03|    1|   1|\n",
      "|  3|2018-01-04|    1|   1|\n",
      "|  4|2018-01-05|    1|   1|\n",
      "+---+----------+-----+----+\n",
      "only showing top 5 rows\n",
      "\n"
     ]
    }
   ],
   "source": [
    "print(\"Test data\")\n",
    "print(test_df.count())\n",
    "test_df.show(5)"
   ]
  },
  {
   "cell_type": "code",
   "execution_count": 30,
   "metadata": {},
   "outputs": [
    {
     "name": "stdout",
     "output_type": "stream",
     "text": [
      "Sample submission data\n",
      "45000\n",
      "+---+-----+\n",
      "| id|sales|\n",
      "+---+-----+\n",
      "|  0|   52|\n",
      "|  1|   52|\n",
      "|  2|   52|\n",
      "|  3|   52|\n",
      "|  4|   52|\n",
      "+---+-----+\n",
      "only showing top 5 rows\n",
      "\n"
     ]
    }
   ],
   "source": [
    "print(\"Sample submission data\")\n",
    "print(ss_df.count())\n",
    "ss_df.show(5)"
   ]
  }
 ],
 "metadata": {
  "kernelspec": {
   "display_name": "Python 3",
   "language": "python",
   "name": "python3"
  },
  "language_info": {
   "codemirror_mode": {
    "name": "ipython",
    "version": 3
   },
   "file_extension": ".py",
   "mimetype": "text/x-python",
   "name": "python",
   "nbconvert_exporter": "python",
   "pygments_lexer": "ipython3",
   "version": "3.6.6"
  }
 },
 "nbformat": 4,
 "nbformat_minor": 2
}
